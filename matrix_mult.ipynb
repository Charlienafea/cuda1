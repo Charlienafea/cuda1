{
  "nbformat": 4,
  "nbformat_minor": 0,
  "metadata": {
    "colab": {
      "name": "matrix_mult.ipynb",
      "provenance": [],
      "authorship_tag": "ABX9TyMWcfSlFZqzTwQ61/7/xcew",
      "include_colab_link": true
    },
    "kernelspec": {
      "name": "python3",
      "display_name": "Python 3"
    },
    "language_info": {
      "name": "python"
    },
    "accelerator": "GPU"
  },
  "cells": [
    {
      "cell_type": "markdown",
      "metadata": {
        "id": "view-in-github",
        "colab_type": "text"
      },
      "source": [
        "<a href=\"https://colab.research.google.com/github/NDU-CSC413/cuda1/blob/master/matrix_mult.ipynb\" target=\"_parent\"><img src=\"https://colab.research.google.com/assets/colab-badge.svg\" alt=\"Open In Colab\"/></a>"
      ]
    },
    {
      "cell_type": "markdown",
      "metadata": {
        "id": "zqJyP9KmLHOI"
      },
      "source": [
        "# Naive matrix multiplication\n",
        "CUDA implementation of matrix multiplication without using shared memory\n",
        "$$\n",
        "C_{ij}=\\sum_kA_{ik}B_{kj}\n",
        "$$"
      ]
    },
    {
      "cell_type": "code",
      "metadata": {
        "colab": {
          "base_uri": "https://localhost:8080/"
        },
        "id": "bjrl9XCSyea2",
        "outputId": "3bf20079-8001-455a-85f7-411a5ae06727"
      },
      "source": [
        "%%writefile example1.cu\n",
        "#include <iostream>\n",
        "#include <cuda_runtime.h>\n",
        "#include <device_launch_parameters.h>\n",
        "#include <chrono>\n",
        "using Duration = std::chrono::duration<double, std::milli>;\n",
        "\n",
        "#define TIMEIT(dur,...)\\\n",
        "   {\\\n",
        "    auto start = std::chrono::high_resolution_clock::now();\\\n",
        "    __VA_ARGS__\\\n",
        "    auto end = std::chrono::high_resolution_clock::now();\\\n",
        "     dur = std::chrono::duration<double, std::milli>(end - start);\\\n",
        "}\n",
        "/**\n",
        " *  mat_mult()->__global__ void\n",
        " * Matrix multiplication without using shared memory\n",
        " * @param da\n",
        " * @param db\n",
        " * @param dc\n",
        " * @param width\n",
        " * @return \n",
        " */\n",
        "__global__ void mat_mult(float* da, float* db, float* dc, int width) {\n",
        "    int row = blockIdx.y * blockDim.y + threadIdx.y;\n",
        "    int col = blockIdx.x * blockDim.x + threadIdx.x;\n",
        "\n",
        "    float result = 0;\n",
        "    for (int k = 0; k < width; ++k) \n",
        "    {\n",
        "        result += da[row * width + k] * db[k * width + col];\n",
        "    }\n",
        "    dc[row * width + col] = result;\n",
        "}\n",
        "\n",
        "float  time_kernel(float* da, float* db, float* dc, int width,\n",
        "                         dim3 blocks_per_grid,dim3 threads_per_block) {\n",
        "    cudaEvent_t kernel_start, kernel_end;\n",
        "    cudaEventCreate(&kernel_start);\n",
        "    cudaEventCreate(&kernel_end);\n",
        "    /* warmup call*/\n",
        "    mat_mult <<<blocks_per_grid, threads_per_block >> > (da, db, dc, width);\n",
        "    float time = 0;\n",
        "    float total = 0;\n",
        "    const int num_trials=500;\n",
        "    for (int i = 0; i < num_trials; ++i) {\n",
        "        cudaEventRecord(kernel_start);\n",
        "        mat_mult << <blocks_per_grid, threads_per_block>> > (da, db, dc, width);\n",
        "        cudaEventRecord(kernel_end);\n",
        "        cudaEventSynchronize(kernel_end);\n",
        "        cudaEventElapsedTime(&time, kernel_start, kernel_end);\n",
        "        total += time;\n",
        "    }\n",
        "    /* average time in milliseconds */\n",
        "    return total / num_trials;\n",
        "}\n",
        "int main() {\n",
        "    const int matrix_w = 1024;\n",
        "    const int msize = matrix_w * matrix_w;\n",
        "    float* a, * b, * c;\n",
        "\n",
        "    float* da, * db, * dc;\n",
        "    a = (float*)malloc(msize * sizeof(float));\n",
        "    b = (float*)malloc(msize * sizeof(float));\n",
        "    c = (float*)malloc(msize * sizeof(float));\n",
        "    for (int i = 0; i < msize; ++i) {\n",
        "        a[i] = 1;\n",
        "        b[i] = 1;\n",
        "        c[i] = 0;\n",
        "    }\n",
        "\n",
        "    cudaMalloc(&da, msize * sizeof(float));\n",
        "    cudaMalloc(&db, msize * sizeof(float));\n",
        "    cudaMalloc(&dc, msize * sizeof(float));\n",
        "    cudaMemcpy(da, a, msize * sizeof(float), cudaMemcpyHostToDevice);\n",
        "    cudaMemcpy(db, b, msize * sizeof(float), cudaMemcpyHostToDevice);\n",
        "\n",
        "\n",
        "    /* total number of threads per block is 1024 which is the maximum */\n",
        "    dim3 threads_per_block(32, 32);\n",
        "    dim3 blocks_per_grid(matrix_w / threads_per_block.x, matrix_w / threads_per_block.y);\n",
        "    float gpu_time = time_kernel(da, db, dc, matrix_w, blocks_per_grid, threads_per_block);\n",
        "    cudaMemcpy(c, dc, msize * sizeof(float), cudaMemcpyDeviceToHost);\n",
        "\n",
        "    for (int i = 0; i < msize; ++i) {\n",
        "        if (c[i] != matrix_w) {\n",
        "            std::cout << \"ERROR\\n\"; break;\n",
        "        }\n",
        "        else c[i] = 0;\n",
        "    }\n",
        "    std::cout << \"Multiplicatio of two \" << matrix_w << \"x\" << matrix_w << \" matrices\\n\";\n",
        "    std::cout << \"GPU time \" << gpu_time << \"  milliseconds\\n\";\n",
        "    cudaFree(da);\n",
        "    cudaFree(db);\n",
        "    cudaFree(dc);\n",
        "    Duration d;\n",
        "    TIMEIT(d,\n",
        "        for (int i = 0; i < matrix_w; ++i) {\n",
        "            for (int j = 0; j < matrix_w; ++j)\n",
        "                for (int k = 0; k < matrix_w; ++k)\n",
        "                    c[i * matrix_w + j] += a[i * matrix_w + k] * b[matrix_w * k + j];\n",
        "        }\n",
        "    )\n",
        "\tfor (int i = 0; i < msize; ++i) {\n",
        "\t\tif (c[i] != matrix_w) {\n",
        "\t\t\tstd::cout << \"ERROR\\n\"; break;\n",
        "\t\t}\n",
        "\t\telse c[i] = 0;\n",
        "\t}\n",
        "    std::cout <<\"CPU time \"<< d.count() << \" milliseconds \\n\";\n",
        "    std::cout << \"gain = \" << d.count()/gpu_time << \"\\n\";\n",
        "    \n",
        "\n",
        "    free(a);\n",
        "    free(b);\n",
        "    free(c);\n",
        "\n",
        "\n",
        "}"
      ],
      "execution_count": 12,
      "outputs": [
        {
          "output_type": "stream",
          "text": [
            "Overwriting example1.cu\n"
          ],
          "name": "stdout"
        }
      ]
    },
    {
      "cell_type": "code",
      "metadata": {
        "id": "h7VjYyHuIeD8"
      },
      "source": [
        "!nvcc -O2 example1.cu -o example1"
      ],
      "execution_count": 13,
      "outputs": []
    },
    {
      "cell_type": "code",
      "metadata": {
        "colab": {
          "base_uri": "https://localhost:8080/"
        },
        "id": "RgYgTAZAIq5o",
        "outputId": "a7c4a453-60df-4b22-b5ac-6052875c9342"
      },
      "source": [
        "!./example1"
      ],
      "execution_count": 14,
      "outputs": [
        {
          "output_type": "stream",
          "text": [
            "Multiplicatio of two 1024x1024 matrices\n",
            "GPU time 4.1021  milliseconds\n",
            "CPU time 3265.57 milliseconds \n",
            "gain = 796.072\n"
          ],
          "name": "stdout"
        }
      ]
    },
    {
      "cell_type": "code",
      "metadata": {
        "id": "vD5uzG2NItMc"
      },
      "source": [
        ""
      ],
      "execution_count": null,
      "outputs": []
    }
  ]
}