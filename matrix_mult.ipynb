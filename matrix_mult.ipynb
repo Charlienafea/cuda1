{
  "nbformat": 4,
  "nbformat_minor": 0,
  "metadata": {
    "colab": {
      "name": "matrix_mult.ipynb",
      "provenance": [],
      "authorship_tag": "ABX9TyOoACQhpY3n9pMMOAoHDSxu",
      "include_colab_link": true
    },
    "kernelspec": {
      "name": "python3",
      "display_name": "Python 3"
    },
    "language_info": {
      "name": "python"
    },
    "accelerator": "GPU"
  },
  "cells": [
    {
      "cell_type": "markdown",
      "metadata": {
        "id": "view-in-github",
        "colab_type": "text"
      },
      "source": [
        "<a href=\"https://colab.research.google.com/github/NDU-CSC413/cuda1/blob/master/matrix_mult.ipynb\" target=\"_parent\"><img src=\"https://colab.research.google.com/assets/colab-badge.svg\" alt=\"Open In Colab\"/></a>"
      ]
    },
    {
      "cell_type": "markdown",
      "metadata": {
        "id": "zqJyP9KmLHOI"
      },
      "source": [
        "# Naive matrix multiplication\n",
        "CUDA implementation of matrix multiplication without using shared memory\n",
        "$$\n",
        "C_{ij}=\\sum_kA_{ik}B_{kj}\n",
        "$$"
      ]
    },
    {
      "cell_type": "code",
      "metadata": {
        "colab": {
          "base_uri": "https://localhost:8080/"
        },
        "id": "bjrl9XCSyea2",
        "outputId": "ca70afdb-a20c-48c4-ec63-a5646fc76a8c"
      },
      "source": [
        "%%writefile example1.cu\n",
        "#include <iostream>\n",
        "#include <cuda_runtime.h>\n",
        "#include <device_launch_parameters.h>\n",
        "#include <chrono>\n",
        "using Duration = std::chrono::duration<double, std::milli>;\n",
        "\n",
        "#define TIMEIT(dur,...)\\\n",
        "   {\\\n",
        "    auto start = std::chrono::high_resolution_clock::now();\\\n",
        "    __VA_ARGS__\\\n",
        "    auto end = std::chrono::high_resolution_clock::now();\\\n",
        "     dur = std::chrono::duration<double, std::milli>(end - start);\\\n",
        "}\n",
        "/**\n",
        " *  mat_mult()->__global__ void\n",
        " * Matrix multiplication without using shared memory\n",
        " * @param da\n",
        " * @param db\n",
        " * @param dc\n",
        " * @param width\n",
        " * @return \n",
        " */\n",
        "__global__ void mat_mult(float* da, float* db, float* dc, int width) {\n",
        "    int row = blockIdx.y * blockDim.y + threadIdx.y;\n",
        "    int col = blockIdx.x * blockDim.x + threadIdx.x;\n",
        "\n",
        "    float result = 0;\n",
        "    for (int k = 0; k < width; ++k) \n",
        "    {\n",
        "        result += da[row * width + k] * db[k * width + col];\n",
        "    }\n",
        "    dc[row * width + col] = result;\n",
        "}\n",
        "\n",
        "float  time_kernel(float* da, float* db, float* dc, int width,\n",
        "                         dim3 blocks_per_grid,dim3 threads_per_block) {\n",
        "    cudaEvent_t kernel_start, kernel_end;\n",
        "    cudaEventCreate(&kernel_start);\n",
        "    cudaEventCreate(&kernel_end);\n",
        "    /* warmup call*/\n",
        "    mat_mult <<<blocks_per_grid, threads_per_block >> > (da, db, dc, width);\n",
        "    float time = 0;\n",
        "    float total = 0;\n",
        "    const int num_trials=500;\n",
        "    for (int i = 0; i < num_trials; ++i) {\n",
        "        cudaEventRecord(kernel_start);\n",
        "        mat_mult << <blocks_per_grid, threads_per_block>> > (da, db, dc, width);\n",
        "        cudaEventRecord(kernel_end);\n",
        "        cudaEventSynchronize(kernel_end);\n",
        "        cudaEventElapsedTime(&time, kernel_start, kernel_end);\n",
        "        total += time;\n",
        "    }\n",
        "    /* average time in milliseconds */\n",
        "    return total / num_trials;\n",
        "}\n",
        "int main() {\n",
        "    const int matrix_w = 1024;\n",
        "    const int msize = matrix_w * matrix_w;\n",
        "    float* a, * b, * c;\n",
        "\n",
        "    float* da, * db, * dc;\n",
        "    a = (float*)malloc(msize * sizeof(float));\n",
        "    b = (float*)malloc(msize * sizeof(float));\n",
        "    c = (float*)malloc(msize * sizeof(float));\n",
        "    for (int i = 0; i < msize; ++i) {\n",
        "        a[i] = 1;\n",
        "        b[i] = 1;\n",
        "        c[i] = 0;\n",
        "    }\n",
        "\n",
        "    cudaMalloc(&da, msize * sizeof(float));\n",
        "    cudaMalloc(&db, msize * sizeof(float));\n",
        "    cudaMalloc(&dc, msize * sizeof(float));\n",
        "    cudaMemcpy(da, a, msize * sizeof(float), cudaMemcpyHostToDevice);\n",
        "    cudaMemcpy(db, b, msize * sizeof(float), cudaMemcpyHostToDevice);\n",
        "\n",
        "\n",
        "    /* total number of threads per block is 1024 which is the maximum */\n",
        "    dim3 threads_per_block(32, 32);\n",
        "    dim3 blocks_per_grid(matrix_w / threads_per_block.x, matrix_w / threads_per_block.y);\n",
        "    float gpu_time = time_kernel(da, db, dc, matrix_w, blocks_per_grid, threads_per_block);\n",
        "    cudaMemcpy(c, dc, msize * sizeof(float), cudaMemcpyDeviceToHost);\n",
        "\n",
        "    for (int i = 0; i < msize; ++i) {\n",
        "        if (c[i] != matrix_w) {\n",
        "            std::cout << \"ERROR\\n\"; break;\n",
        "        }\n",
        "        else c[i] = 0;\n",
        "    }\n",
        "    std::cout << \"Multiplicatio of two \" << matrix_w << \"x\" << matrix_w << \" matrices\\n\";\n",
        "    std::cout << \"GPU time \" << gpu_time << \"  milliseconds\\n\";\n",
        "    cudaFree(da);\n",
        "    cudaFree(db);\n",
        "    cudaFree(dc);\n",
        "    Duration d;\n",
        "    TIMEIT(d,\n",
        "        for (int i = 0; i < matrix_w; ++i) {\n",
        "            for (int j = 0; j < matrix_w; ++j)\n",
        "                for (int k = 0; k < matrix_w; ++k)\n",
        "                    c[i * matrix_w + j] += a[i * matrix_w + k] * b[matrix_w * k + j];\n",
        "        }\n",
        "    )\n",
        "\tfor (int i = 0; i < msize; ++i) {\n",
        "\t\tif (c[i] != matrix_w) {\n",
        "\t\t\tstd::cout << \"ERROR\\n\"; break;\n",
        "\t\t}\n",
        "\t\telse c[i] = 0;\n",
        "\t}\n",
        "    std::cout <<\"CPU time \"<< d.count() << \" milliseconds \\n\";\n",
        "    std::cout << \"gain = \" << d.count()/gpu_time << \"\\n\";\n",
        "    \n",
        "\n",
        "    free(a);\n",
        "    free(b);\n",
        "    free(c);\n",
        "\n",
        "\n",
        "}"
      ],
      "execution_count": 1,
      "outputs": [
        {
          "output_type": "stream",
          "text": [
            "Writing example1.cu\n"
          ],
          "name": "stdout"
        }
      ]
    },
    {
      "cell_type": "code",
      "metadata": {
        "id": "h7VjYyHuIeD8"
      },
      "source": [
        "!nvcc -O2 example1.cu -o example1"
      ],
      "execution_count": 2,
      "outputs": []
    },
    {
      "cell_type": "code",
      "metadata": {
        "colab": {
          "base_uri": "https://localhost:8080/"
        },
        "id": "RgYgTAZAIq5o",
        "outputId": "17d398d2-6a2e-43b4-f00b-52674599ee3d"
      },
      "source": [
        "!./example1"
      ],
      "execution_count": 3,
      "outputs": [
        {
          "output_type": "stream",
          "text": [
            "Multiplicatio of two 1024x1024 matrices\n",
            "GPU time 3.24338  milliseconds\n",
            "CPU time 3364.01 milliseconds \n",
            "gain = 1037.19\n"
          ],
          "name": "stdout"
        }
      ]
    },
    {
      "cell_type": "code",
      "metadata": {
        "id": "vD5uzG2NItMc",
        "outputId": "b38a405d-b25b-4618-ac86-9b92771ab70d",
        "colab": {
          "base_uri": "https://localhost:8080/"
        }
      },
      "source": [
        "%%writefile example2.cu\n",
        "#include <cuda_runtime.h>\n",
        "#include <device_launch_parameters.h>\n",
        "#include <iostream>\n",
        "#include <algorithm>\n",
        "#include <chrono>\n",
        "/**\n",
        " * Matrix multiplication using shared memory.\n",
        " * The matrix is assumed to be square.\n",
        " */\n",
        "using Duration = std::chrono::duration<double, std::milli>;\n",
        "\n",
        "#define TIMEIT(dur,...)\\\n",
        "   {\\\n",
        "    auto start = std::chrono::high_resolution_clock::now();\\\n",
        "    __VA_ARGS__\\\n",
        "    auto end = std::chrono::high_resolution_clock::now();\\\n",
        "     dur = std::chrono::duration<double, std::milli>(end - start);\\\n",
        "}\n",
        "#define BLOCK_SIZE 32\n",
        "__global__ void mult(float* da, float* db, float* dc, int width) {\n",
        "\n",
        "\tint by= blockIdx.y;\n",
        "\tint bx = blockIdx.x;\n",
        "\tint ty = threadIdx.y;\n",
        "\tint tx = threadIdx.x;\n",
        "\tint row = by * BLOCK_SIZE + ty;\n",
        "\tint col = bx * BLOCK_SIZE + tx;\n",
        "\t__shared__ float sa[BLOCK_SIZE][BLOCK_SIZE];\n",
        "\t__shared__ float sb[BLOCK_SIZE][BLOCK_SIZE];\n",
        "\tfloat res = 0.0;\n",
        "\tint ntiles = width / BLOCK_SIZE;\n",
        "\tfor (int b = 0; b < ntiles; ++b) {\n",
        "\t\t\n",
        "\t\t/* copy from memory to shared memory */\n",
        "\t\tsa[ty][tx] = da[row * width + b * BLOCK_SIZE + tx];\n",
        "\t\tsb[ty][tx] = db[(b * BLOCK_SIZE + ty) * width + col];\n",
        "\t\t\n",
        "\t\t__syncthreads();\n",
        "\t\tfor (int k = 0; k < BLOCK_SIZE; ++k) {\n",
        "\t\t\tres += sa[ty][k] * sb[k][tx];\n",
        "\t\t}\n",
        "\t\t__syncthreads();\n",
        "\t}\n",
        "\tdc[row* width + col] = res;\n",
        "}\n",
        "\n",
        "\n",
        "int main() {\n",
        "\tcudaEvent_t kernel_start,kernel_end;\n",
        "\tcudaEventCreate(&kernel_start);\n",
        "\tcudaEventCreate(&kernel_end);\n",
        "\n",
        "\n",
        "\tfloat* a, * b, * c;\n",
        "\tfloat* da, * db, * dc;\n",
        "\n",
        "\tconst int matrix_width = 1024;\n",
        "\tconst int size = matrix_width * matrix_width;\n",
        "\ta = (float*)malloc(size * sizeof(float));\n",
        "\tb = (float*)malloc(size * sizeof(float));\n",
        "\tc = (float*)malloc(size * sizeof(float));\n",
        "\tfor (int i = 0; i < size; ++i) {\n",
        "\t\ta[i] = 1;\n",
        "\t\tb[i] = 1;\n",
        "\t}\n",
        "\tcudaMalloc(&da, size * sizeof(float));\n",
        "\tcudaMalloc(&db, size * sizeof(float));\n",
        "\tcudaMalloc(&dc, size * sizeof(float));\n",
        "\tcudaMemcpy(da, a, size * sizeof(float), cudaMemcpyHostToDevice);\n",
        "\tcudaMemcpy(db, b, size * sizeof(float), cudaMemcpyHostToDevice);\n",
        "\tdim3 blockSize(BLOCK_SIZE, BLOCK_SIZE);\n",
        "\tdim3 gridSize(matrix_width/ BLOCK_SIZE, matrix_width / BLOCK_SIZE);\n",
        "\tmult << <gridSize, blockSize >> > (da, db, dc, matrix_width);\n",
        "\tfloat time = 0;\n",
        "\tfloat gpu_time = 0;\n",
        "\tconst int num_trials = 500;\n",
        "\tfor (int i = 0; i < num_trials; ++i) {\n",
        "\t\tcudaEventRecord(kernel_start,0);\n",
        "\t\tmult << <gridSize, blockSize >> > (da, db, dc, matrix_width);\n",
        "\t\tcudaEventRecord(kernel_end,0);\n",
        "\t\tcudaEventSynchronize(kernel_end);\n",
        "\t\tcudaEventElapsedTime(&time, kernel_start, kernel_end);\n",
        "\t\tgpu_time += time;\n",
        "\t}\n",
        "\tgpu_time /= num_trials;\n",
        "\tstd::cout << \"GPU  time \" << gpu_time << '\\n';\n",
        "\tcudaMemcpy(c, dc, size * sizeof(float), cudaMemcpyDeviceToHost);\n",
        "\tfor (int i = 0; i < size; i++) {\n",
        "\t\tif (c[i] != matrix_width) {\n",
        "\t\t\tstd::cout << \"error\\n\";\n",
        "\t\t\tbreak;\n",
        "\t\t}\n",
        "\t\telse c[i] = 0;\n",
        "\t}\n",
        "\tcudaFree(da);\n",
        "\tcudaFree(db);\n",
        "\tcudaFree(dc);\n",
        "\tDuration d;\n",
        "\tTIMEIT(d,\n",
        "\t\tfor (int i = 0; i < matrix_width; ++i) {\n",
        "\t\t\tfor (int j = 0; j < matrix_width; ++j)\n",
        "\t\t\t\tfor (int k = 0; k < matrix_width; ++k)\n",
        "\t\t\t\t\tc[i * matrix_width + j] += a[i * matrix_width+ k] * b[matrix_width * k + j];\n",
        "\t\t}\n",
        "\t)\n",
        "\t\t\n",
        "\tstd::cout << \"CPU time \" << d.count() << \" milliseconds \\n\";\n",
        "\tstd::cout << \"gain = \" << d.count() / gpu_time << \"\\n\";\n",
        "\tfree(a);\n",
        "\tfree(b);\n",
        "\tfree(c);\n",
        "\n",
        "}"
      ],
      "execution_count": 4,
      "outputs": [
        {
          "output_type": "stream",
          "text": [
            "Writing example2.cu\n"
          ],
          "name": "stdout"
        }
      ]
    },
    {
      "cell_type": "code",
      "metadata": {
        "id": "_J5FUCtT_A2E"
      },
      "source": [
        "!nvcc -O2 example2.cu -o example2"
      ],
      "execution_count": 5,
      "outputs": []
    },
    {
      "cell_type": "code",
      "metadata": {
        "id": "MyO8pa2Z_DWH",
        "outputId": "dc0f7b90-5c1e-448c-83ef-888805c789dc",
        "colab": {
          "base_uri": "https://localhost:8080/"
        }
      },
      "source": [
        "!./example2"
      ],
      "execution_count": 6,
      "outputs": [
        {
          "output_type": "stream",
          "text": [
            "GPU  time 2.34097\n",
            "CPU time 3350.23 milliseconds \n",
            "gain = 1431.13\n"
          ],
          "name": "stdout"
        }
      ]
    },
    {
      "cell_type": "code",
      "metadata": {
        "id": "ZvbpuMly_EqN"
      },
      "source": [
        ""
      ],
      "execution_count": null,
      "outputs": []
    }
  ]
}